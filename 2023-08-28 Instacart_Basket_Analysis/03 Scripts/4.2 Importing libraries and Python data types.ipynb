{
 "cells": [
  {
   "cell_type": "markdown",
   "id": "d7b3d660",
   "metadata": {},
   "source": [
    "# 01. Importing libraries"
   ]
  },
  {
   "cell_type": "code",
   "execution_count": 1,
   "id": "0920a178",
   "metadata": {},
   "outputs": [],
   "source": [
    "# Import libraries\n",
    "import pandas as pd\n",
    "import numpy as np\n",
    "import os"
   ]
  },
  {
   "cell_type": "code",
   "execution_count": 26,
   "id": "b50327bc",
   "metadata": {},
   "outputs": [],
   "source": [
    "# Working with Python data types\n",
    "a=25 \n",
    "b=50\n",
    "c=75\n",
    "d=10"
   ]
  },
  {
   "cell_type": "code",
   "execution_count": 27,
   "id": "50f7616b",
   "metadata": {},
   "outputs": [
    {
     "data": {
      "text/plain": [
       "100"
      ]
     },
     "execution_count": 27,
     "metadata": {},
     "output_type": "execute_result"
    }
   ],
   "source": [
    "a+c"
   ]
  },
  {
   "cell_type": "code",
   "execution_count": 30,
   "id": "8d14b169",
   "metadata": {},
   "outputs": [
    {
     "data": {
      "text/plain": [
       "100"
      ]
     },
     "execution_count": 30,
     "metadata": {},
     "output_type": "execute_result"
    }
   ],
   "source": [
    "a+a+b"
   ]
  },
  {
   "cell_type": "code",
   "execution_count": 31,
   "id": "92f231f5",
   "metadata": {},
   "outputs": [
    {
     "data": {
      "text/plain": [
       "100"
      ]
     },
     "execution_count": 31,
     "metadata": {},
     "output_type": "execute_result"
    }
   ],
   "source": [
    "b+c-a"
   ]
  },
  {
   "cell_type": "code",
   "execution_count": 32,
   "id": "bc336282",
   "metadata": {},
   "outputs": [],
   "source": [
    "z=3.96\n",
    "y=6.93\n",
    "x=9.63"
   ]
  },
  {
   "cell_type": "code",
   "execution_count": 33,
   "id": "7b20b27c",
   "metadata": {},
   "outputs": [
    {
     "data": {
      "text/plain": [
       "0.5714285714285714"
      ]
     },
     "execution_count": 33,
     "metadata": {},
     "output_type": "execute_result"
    }
   ],
   "source": [
    "z/y"
   ]
  },
  {
   "cell_type": "code",
   "execution_count": 34,
   "id": "ef8070ad",
   "metadata": {},
   "outputs": [
    {
     "data": {
      "text/plain": [
       "2.431818181818182"
      ]
     },
     "execution_count": 34,
     "metadata": {},
     "output_type": "execute_result"
    }
   ],
   "source": [
    "x/z"
   ]
  },
  {
   "cell_type": "code",
   "execution_count": 37,
   "id": "97396fb8",
   "metadata": {},
   "outputs": [],
   "source": [
    "m='com'\n",
    "n='muni'\n",
    "o='cate'"
   ]
  },
  {
   "cell_type": "code",
   "execution_count": 38,
   "id": "099fd7bb",
   "metadata": {},
   "outputs": [
    {
     "data": {
      "text/plain": [
       "'communicate'"
      ]
     },
     "execution_count": 38,
     "metadata": {},
     "output_type": "execute_result"
    }
   ],
   "source": [
    "m+n+o"
   ]
  },
  {
   "cell_type": "code",
   "execution_count": 42,
   "id": "27d8e790",
   "metadata": {},
   "outputs": [],
   "source": [
    "g='Yon '\n",
    "h='can '\n",
    "i=' with '\n",
    "j='me.'"
   ]
  },
  {
   "cell_type": "code",
   "execution_count": 43,
   "id": "a1e78599",
   "metadata": {},
   "outputs": [
    {
     "data": {
      "text/plain": [
       "'Yon can communicate with me.'"
      ]
     },
     "execution_count": 43,
     "metadata": {},
     "output_type": "execute_result"
    }
   ],
   "source": [
    "g+h+m+n+o+i+j"
   ]
  },
  {
   "cell_type": "code",
   "execution_count": 45,
   "id": "4c499eab",
   "metadata": {},
   "outputs": [],
   "source": [
    "k='Show me '\n",
    "l='how it is done.'"
   ]
  },
  {
   "cell_type": "code",
   "execution_count": 47,
   "id": "c74b3496",
   "metadata": {},
   "outputs": [
    {
     "data": {
      "text/plain": [
       "'Show me how it is done.'"
      ]
     },
     "execution_count": 47,
     "metadata": {},
     "output_type": "execute_result"
    }
   ],
   "source": [
    "k+l"
   ]
  },
  {
   "cell_type": "code",
   "execution_count": 50,
   "id": "0af3f461",
   "metadata": {},
   "outputs": [
    {
     "name": "stdout",
     "output_type": "stream",
     "text": [
      "Show me how it is doneShow me how it is doneShow me how it is doneShow me how it is doneShow me how it is doneShow me how it is doneShow me how it is doneShow me how it is doneShow me how it is doneShow me how it is doneShow me how it is doneShow me how it is doneShow me how it is doneShow me how it is doneShow me how it is doneShow me how it is doneShow me how it is doneShow me how it is doneShow me how it is doneShow me how it is doneShow me how it is doneShow me how it is doneShow me how it is doneShow me how it is doneShow me how it is doneShow me how it is doneShow me how it is doneShow me how it is doneShow me how it is doneShow me how it is doneShow me how it is doneShow me how it is doneShow me how it is doneShow me how it is doneShow me how it is doneShow me how it is doneShow me how it is doneShow me how it is doneShow me how it is doneShow me how it is doneShow me how it is doneShow me how it is doneShow me how it is doneShow me how it is doneShow me how it is doneShow me how it is doneShow me how it is doneShow me how it is doneShow me how it is doneShow me how it is doneShow me how it is doneShow me how it is doneShow me how it is doneShow me how it is doneShow me how it is doneShow me how it is doneShow me how it is doneShow me how it is doneShow me how it is doneShow me how it is doneShow me how it is doneShow me how it is doneShow me how it is doneShow me how it is doneShow me how it is doneShow me how it is doneShow me how it is doneShow me how it is doneShow me how it is doneShow me how it is doneShow me how it is doneShow me how it is doneShow me how it is doneShow me how it is doneShow me how it is doneShow me how it is doneShow me how it is doneShow me how it is doneShow me how it is doneShow me how it is doneShow me how it is doneShow me how it is doneShow me how it is doneShow me how it is doneShow me how it is doneShow me how it is doneShow me how it is doneShow me how it is doneShow me how it is doneShow me how it is doneShow me how it is doneShow me how it is doneShow me how it is doneShow me how it is doneShow me how it is doneShow me how it is doneShow me how it is doneShow me how it is doneShow me how it is doneShow me how it is done\n"
     ]
    }
   ],
   "source": [
    "string_to_repeat = 'Show me how it is done'\n",
    "repeat = string_to_repeat * 100\n",
    "print(repeat)"
   ]
  }
 ],
 "metadata": {
  "kernelspec": {
   "display_name": "Python 3 (ipykernel)",
   "language": "python",
   "name": "python3"
  },
  "language_info": {
   "codemirror_mode": {
    "name": "ipython",
    "version": 3
   },
   "file_extension": ".py",
   "mimetype": "text/x-python",
   "name": "python",
   "nbconvert_exporter": "python",
   "pygments_lexer": "ipython3",
   "version": "3.11.4"
  }
 },
 "nbformat": 4,
 "nbformat_minor": 5
}
